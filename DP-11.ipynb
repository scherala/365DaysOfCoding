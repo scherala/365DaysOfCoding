{
 "cells": [
  {
   "cell_type": "markdown",
   "metadata": {},
   "source": [
    "# Rod Cutting Problem"
   ]
  },
  {
   "cell_type": "code",
   "execution_count": 2,
   "metadata": {},
   "outputs": [],
   "source": [
    "# Input - A rod of length n and a list of prices for each of the lengths\n",
    "# Output - Maximum profit that can be obtained by optimally cutting the rod\n",
    "\n",
    "def get_max_profit_cut(prices, rod_length):\n",
    "    \n",
    "    # Memoization table - Something I like to call!- Not a technical term\n",
    "    # Ex: length = 4, => sub problem lengths: 0,1,2,3,4 \n",
    "    result = [0 for i in range(rod_length+1)]\n",
    "    \n",
    "    for i in range(1, rod_length+1):\n",
    "        for j in range(1, i+1):\n",
    "            result[i] = max(result[i] , prices[j-1] + result[i-j])\n",
    "            \n",
    "    return result"
   ]
  },
  {
   "cell_type": "code",
   "execution_count": 3,
   "metadata": {},
   "outputs": [],
   "source": [
    "# Test case:\n",
    "prices = [1,5,8,9,10,17,17,20]\n",
    "result = get_max_profit_cut(prices, 4)\n",
    "print(result)"
   ]
  }
 ],
 "metadata": {
  "kernelspec": {
   "display_name": "Python 3",
   "language": "python",
   "name": "python3"
  },
  "language_info": {
   "codemirror_mode": {
    "name": "ipython",
    "version": 3
   },
   "file_extension": ".py",
   "mimetype": "text/x-python",
   "name": "python",
   "nbconvert_exporter": "python",
   "pygments_lexer": "ipython3",
   "version": "3.7.4"
  }
 },
 "nbformat": 4,
 "nbformat_minor": 2
}
