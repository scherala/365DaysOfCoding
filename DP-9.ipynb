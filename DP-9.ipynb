{
 "cells": [
  {
   "cell_type": "markdown",
   "metadata": {},
   "source": [
    "# Wildcard Pattern matching"
   ]
  },
  {
   "cell_type": "code",
   "execution_count": 35,
   "metadata": {},
   "outputs": [],
   "source": [
    "def check_pattern_in_string(input_s, pattern):\n",
    "    pattern_len = len(pattern)\n",
    "    input_len = len(input_s)\n",
    "    result = [[False for i in range(pattern_len+1)] for j in range(input_len+1)]\n",
    "    result[0][0] = True\n",
    "    for j in range(pattern_len+1):\n",
    "        if pattern[j-1] == '*':\n",
    "            result[0][j] = result[0][j-1]\n",
    "    for i in range(1,len(input_s)+1):\n",
    "        for j in range(1,pattern_len+1):\n",
    "            if input_s[i-1] == pattern[j-1]:\n",
    "                result[i][j] = result[i-1][j-1]\n",
    "            elif pattern[j-1] == '*':\n",
    "                result[i][j] = result[i-1][j] or result[i][j-1]\n",
    "            elif pattern[j-1] == '?':\n",
    "                result[i][j] = result[i-1][j-1]\n",
    "    return result[input_len][pattern_len]\n",
    "            \n",
    "                "
   ]
  },
  {
   "cell_type": "code",
   "execution_count": 36,
   "metadata": {},
   "outputs": [
    {
     "data": {
      "text/plain": [
       "False"
      ]
     },
     "execution_count": 36,
     "metadata": {},
     "output_type": "execute_result"
    }
   ],
   "source": [
    "check_pattern_in_string('xyxzzxy','x***x')"
   ]
  }
 ],
 "metadata": {
  "kernelspec": {
   "display_name": "Python 3",
   "language": "python",
   "name": "python3"
  },
  "language_info": {
   "codemirror_mode": {
    "name": "ipython",
    "version": 3
   },
   "file_extension": ".py",
   "mimetype": "text/x-python",
   "name": "python",
   "nbconvert_exporter": "python",
   "pygments_lexer": "ipython3",
   "version": "3.7.4"
  }
 },
 "nbformat": 4,
 "nbformat_minor": 2
}
