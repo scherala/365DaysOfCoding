{
 "cells": [
  {
   "cell_type": "markdown",
   "metadata": {},
   "source": [
    "# Collect maximum points in a matrix by satisfying given constriants"
   ]
  },
  {
   "cell_type": "code",
   "execution_count": 13,
   "metadata": {},
   "outputs": [],
   "source": [
    "def get_max_points(input_matrix):\n",
    "    rows = len(input_matrix)\n",
    "    columns = len(input_matrix[0])\n",
    "    result = [[0 for _ in range(columns+1)] for _ in range(rows+1)]\n",
    "    for i in range(1,rows+1):\n",
    "        if (i & 1 == 1):\n",
    "            for j in range(1,columns+1):\n",
    "                if input_matrix[i-1][j-1] != -1:\n",
    "                    result[i][j] = input_matrix[i-1][j-1] + max(result[i][j-1],result[i-1][j])\n",
    "        else:\n",
    "            for j in range(columns-1,0,-1):\n",
    "                if input_matrix[i-1][j-1] != -1:\n",
    "                    result[i][j] = input_matrix[i-1][j-1] + max(result[i][j+1],result[i-1][j])\n",
    "    return result"
   ]
  },
  {
   "cell_type": "code",
   "execution_count": 16,
   "metadata": {},
   "outputs": [
    {
     "name": "stdout",
     "output_type": "stream",
     "text": [
      "[0, 0, 0, 0, 0, 0]\n",
      "[0, 1, 2, 0, 1, 2]\n",
      "[0, 3, 2, 0, 0, 0]\n",
      "[0, 4, 5, 6, 7, 0]\n",
      "[0, 0, 0, 9, 8, 0]\n",
      "[0, 1, 2, 0, 0, 1]\n",
      "9\n"
     ]
    }
   ],
   "source": [
    "import numpy as np\n",
    "input_matrix = [[1,1,-1,1,1],[1,0,0,-1,1],[1,1,1,1,-1],[-1,-1,1,1,1],[1,1,-1,-1,1]]\n",
    "result = get_max_points(input_matrix)\n",
    "for r in result:\n",
    "    print(r)\n",
    "print(np.max(result))"
   ]
  }
 ],
 "metadata": {
  "kernelspec": {
   "display_name": "Python 3",
   "language": "python",
   "name": "python3"
  },
  "language_info": {
   "codemirror_mode": {
    "name": "ipython",
    "version": 3
   },
   "file_extension": ".py",
   "mimetype": "text/x-python",
   "name": "python",
   "nbconvert_exporter": "python",
   "pygments_lexer": "ipython3",
   "version": "3.7.3"
  }
 },
 "nbformat": 4,
 "nbformat_minor": 4
}
