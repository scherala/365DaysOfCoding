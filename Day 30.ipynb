{
 "cells": [
  {
   "cell_type": "markdown",
   "metadata": {},
   "source": [
    "# Single Source shortest path using Bellman Ford Algorithm"
   ]
  },
  {
   "cell_type": "code",
   "execution_count": 28,
   "metadata": {},
   "outputs": [],
   "source": [
    "def single_source_shortest_path(graph, start_node):\n",
    "    distance = {}\n",
    "    \n",
    "    for node in graph:\n",
    "        distance[node] = float('inf')\n",
    "    distance[start_node] = 0\n",
    "    for i in range(len(graph)-1):\n",
    "        for node in graph:\n",
    "            for child in graph[node]:\n",
    "                distance = relax(node, child, graph, distance)\n",
    "    return distance\n",
    "\n",
    "                \n",
    "def relax(node, child, graph, distance):\n",
    "    if distance[child] > distance[node] + graph[node][child]:\n",
    "        distance[child] = distance[node] + graph[node][child]\n",
    "    return distance"
   ]
  },
  {
   "cell_type": "code",
   "execution_count": 29,
   "metadata": {},
   "outputs": [
    {
     "name": "stdout",
     "output_type": "stream",
     "text": [
      "{'a': 0, 'b': -1, 'c': 2, 'd': -2, 'e': 1}\n"
     ]
    }
   ],
   "source": [
    "# Initialising Graph\n",
    "graph = {\n",
    "    'a':{'b':-1,'c':4},\n",
    "    'b':{'c':3,'d':2,'e':2},\n",
    "    'c':{},\n",
    "    'd':{'c':5,'b':1},\n",
    "    'e':{'d':-3}\n",
    "}\n",
    "distance = single_source_shortest_path(graph,'a')\n",
    "print(distance)"
   ]
  }
 ],
 "metadata": {
  "kernelspec": {
   "display_name": "Python 3",
   "language": "python",
   "name": "python3"
  },
  "language_info": {
   "codemirror_mode": {
    "name": "ipython",
    "version": 3
   },
   "file_extension": ".py",
   "mimetype": "text/x-python",
   "name": "python",
   "nbconvert_exporter": "python",
   "pygments_lexer": "ipython3",
   "version": "3.7.4"
  }
 },
 "nbformat": 4,
 "nbformat_minor": 4
}
