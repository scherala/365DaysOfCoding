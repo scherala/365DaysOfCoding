{
 "cells": [
  {
   "cell_type": "markdown",
   "metadata": {},
   "source": [
    "# Maximising the value of an Expression"
   ]
  },
  {
   "cell_type": "code",
   "execution_count": 7,
   "metadata": {},
   "outputs": [],
   "source": [
    "def get_max_value(input_list):\n",
    "    # Creating 4 look up tables\n",
    "    len_l = len(input_list)\n",
    "    lookup_1 = [float('-inf') for i in range(len_l+1)]\n",
    "    lookup_2 = [float('-inf') for i in range(len_l)]\n",
    "    lookup_3 = [float('-inf') for i in range(len_l-1)]\n",
    "    lookup_4 = [float('-inf') for i in range(len_l-2)]\n",
    "    \n",
    "    for i in range(len_l-1, -1, -1):\n",
    "        lookup_1[i] = max(lookup_1[i+1], input_list[i])\n",
    "    \n",
    "    for i in range(len_l-2, -1, -1):\n",
    "        lookup_2[i] = max(lookup_2[i+1], lookup_1[i+1] - input_list[i])  \n",
    "    \n",
    "    for i in range(len_l-3, -1, -1):\n",
    "        lookup_3[i] = max(lookup_3[i+1], lookup_2[i+1] + input_list[i])\n",
    "    \n",
    "    for i in range(len_l-4, -1, -1):\n",
    "        lookup_4[i] = max(lookup_4[i+1], lookup_3[i+1] - input_list[i])\n",
    "        \n",
    "    return lookup_4[0]"
   ]
  },
  {
   "cell_type": "code",
   "execution_count": 8,
   "metadata": {},
   "outputs": [
    {
     "data": {
      "text/plain": [
       "46"
      ]
     },
     "execution_count": 8,
     "metadata": {},
     "output_type": "execute_result"
    }
   ],
   "source": [
    "get_max_value([3,9,10,1,30,40])"
   ]
  }
 ],
 "metadata": {
  "kernelspec": {
   "display_name": "Python 3",
   "language": "python",
   "name": "python3"
  },
  "language_info": {
   "codemirror_mode": {
    "name": "ipython",
    "version": 3
   },
   "file_extension": ".py",
   "mimetype": "text/x-python",
   "name": "python",
   "nbconvert_exporter": "python",
   "pygments_lexer": "ipython3",
   "version": "3.7.4"
  }
 },
 "nbformat": 4,
 "nbformat_minor": 2
}
