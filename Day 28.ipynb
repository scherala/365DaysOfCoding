{
 "cells": [
  {
   "cell_type": "markdown",
   "metadata": {},
   "source": [
    "# Calculate Sum of all elements in a Sub-matrix in constant time"
   ]
  },
  {
   "cell_type": "code",
   "execution_count": 1,
   "metadata": {},
   "outputs": [],
   "source": [
    "def calculate_sum(input_matrix, p, q, r, s):\n",
    "    rows = len(input_matrix)\n",
    "    columns = len(input_matrix[0])\n",
    "    aux_matrix = [[0 for i in range(columns)] for j in range(rows)]\n",
    "    \n",
    "    #update first element - sum till the first cell of input matrix is itself\n",
    "    aux_matrix[0][0] = input_matrix[0][0]\n",
    "    #updating first row\n",
    "    for j in range(1, columns):\n",
    "        aux_matrix[0][j] = input_matrix[0][j] + aux_matrix[0][j-1]\n",
    "    \n",
    "    #updating first column\n",
    "    for i in range(1, rows):\n",
    "        aux_matrix[i][0] = input_matrix[i][0] + aux_matrix[i-1][0]\n",
    "        \n",
    "    # for rest of matrix\n",
    "    for i in range(1, rows):\n",
    "        for j in range(1, columns):\n",
    "            aux_matrix[i][j] = input_matrix[i][j] + aux_matrix[i-1][j] + aux_matrix[i][j-1] - aux_matrix[i-1][j-1]\n",
    "            \n",
    "    sum_val = aux_matrix[r][s]\n",
    "    # subtracting a part of matrix in the left\n",
    "    if q-1 >= 0:\n",
    "        sum_val = sum_val - aux_matrix[r][q-1]\n",
    "    if p-1 >= 0:\n",
    "        sum_val = sum_val - aux_matrix[p-1][s]\n",
    "    if p-1 >= 0 and q-1 >= 0:\n",
    "        sum_val = sum_val + aux_matrix[p-1][q-1]\n",
    "    \n",
    "    return sum_val\n",
    "    \n",
    "    \n",
    "    "
   ]
  },
  {
   "cell_type": "code",
   "execution_count": 2,
   "metadata": {},
   "outputs": [
    {
     "data": {
      "text/plain": [
       "38"
      ]
     },
     "execution_count": 2,
     "metadata": {},
     "output_type": "execute_result"
    }
   ],
   "source": [
    "input_matrix = [[0,2,5,4,1],[4,8,2,3,7],[6,3,4,6,2],[7,3,1,8,3],[1,5,7,9,4]]\n",
    "calculate_sum(input_matrix,1,1,3,3)"
   ]
  }
 ],
 "metadata": {
  "kernelspec": {
   "display_name": "Python 3",
   "language": "python",
   "name": "python3"
  },
  "language_info": {
   "codemirror_mode": {
    "name": "ipython",
    "version": 3
   },
   "file_extension": ".py",
   "mimetype": "text/x-python",
   "name": "python",
   "nbconvert_exporter": "python",
   "pygments_lexer": "ipython3",
   "version": "3.7.3"
  }
 },
 "nbformat": 4,
 "nbformat_minor": 4
}
