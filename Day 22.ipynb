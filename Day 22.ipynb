{
 "cells": [
  {
   "cell_type": "code",
   "execution_count": 3,
   "metadata": {},
   "outputs": [],
   "source": [
    "def max_product_rodcutting(length):\n",
    "    \n",
    "    result = [0 for i in range(length+1)]\n",
    "    result[0] = 0\n",
    "    result[1] = 0\n",
    "    for i in range(1, length+1):\n",
    "        max_length = 0\n",
    "        for j in range(1, int((length+1)/2)):\n",
    "            max_length = max(max_length,(i-j)*j, j*result[i-j])\n",
    "        result[i] = max_length\n",
    "    return result"
   ]
  },
  {
   "cell_type": "code",
   "execution_count": 9,
   "metadata": {},
   "outputs": [
    {
     "name": "stdout",
     "output_type": "stream",
     "text": [
      "[0, 0, 1, 2, 4, 6, 9, 12, 18, 27, 36]\n",
      "Maximum obtainable product: 36\n"
     ]
    }
   ],
   "source": [
    "length = 10\n",
    "table = max_product_rodcutting(length)\n",
    "print(table)\n",
    "print(\"Maximum obtainable product: \"+ str(table[length]))"
   ]
  }
 ],
 "metadata": {
  "kernelspec": {
   "display_name": "Python 3",
   "language": "python",
   "name": "python3"
  },
  "language_info": {
   "codemirror_mode": {
    "name": "ipython",
    "version": 3
   },
   "file_extension": ".py",
   "mimetype": "text/x-python",
   "name": "python",
   "nbconvert_exporter": "python",
   "pygments_lexer": "ipython3",
   "version": "3.7.4"
  }
 },
 "nbformat": 4,
 "nbformat_minor": 4
}
