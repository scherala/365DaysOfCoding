{
 "cells": [
  {
   "cell_type": "markdown",
   "metadata": {},
   "source": [
    "# Finding probability that a person is alive after taking N Steps on an Island"
   ]
  },
  {
   "cell_type": "code",
   "execution_count": 63,
   "metadata": {},
   "outputs": [],
   "source": [
    "from itertools import product as prod \n",
    "\n",
    "def calculate_prob(island_size,n_steps):\n",
    "    # Probability of being alive is 1 initially since the person would be at a coordinate in the island\n",
    "    old_prob = [[1. for i in range(island_size)] for j in range(island_size)]\n",
    "    if n_steps == 0:\n",
    "        return old_prob\n",
    "    old_prob = calculate_prob(island_size, n_steps - 1)\n",
    "    new_prob = [[0. for i in range(island_size)] for j in range(island_size)]\n",
    "    directions = [(0, -1), (1, 0), (0, 1), (-1, 0)]\n",
    "    for (i, j, direction) in prod(range(island_size), range(island_size), directions):\n",
    "        neighbor_i = i + direction[0]\n",
    "        neighbor_j = j + direction[1]\n",
    "        if neighbor_i >= 0 and neighbor_i < island_size and \\\n",
    "                neighbor_j >= 0 and neighbor_j < island_size:\n",
    "            prob_alive_this_way = old_prob[neighbor_i][neighbor_j]\n",
    "        else: # neighbor is outside the island \n",
    "            prob_alive_this_way = 0.\n",
    "        new_prob[i][j] += 0.25* prob_alive_this_way\n",
    "    return new_prob"
   ]
  },
  {
   "cell_type": "code",
   "execution_count": 69,
   "metadata": {},
   "outputs": [
    {
     "name": "stdout",
     "output_type": "stream",
     "text": [
      "[0.5, 0.75, 0.75, 0.75, 0.5]\n",
      "[0.75, 1.0, 1.0, 1.0, 0.75]\n",
      "[0.75, 1.0, 1.0, 1.0, 0.75]\n",
      "[0.75, 1.0, 1.0, 1.0, 0.75]\n",
      "[0.5, 0.75, 0.75, 0.75, 0.5]\n"
     ]
    }
   ],
   "source": [
    "res = calculate_prob(5, 1)\n",
    "for r in res:\n",
    "    print(r)"
   ]
  }
 ],
 "metadata": {
  "kernelspec": {
   "display_name": "Python 3",
   "language": "python",
   "name": "python3"
  },
  "language_info": {
   "codemirror_mode": {
    "name": "ipython",
    "version": 3
   },
   "file_extension": ".py",
   "mimetype": "text/x-python",
   "name": "python",
   "nbconvert_exporter": "python",
   "pygments_lexer": "ipython3",
   "version": "3.7.4"
  }
 },
 "nbformat": 4,
 "nbformat_minor": 2
}
