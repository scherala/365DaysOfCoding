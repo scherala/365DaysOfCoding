{
 "cells": [
  {
   "cell_type": "markdown",
   "metadata": {},
   "source": [
    "# All pair shortest paths\n"
   ]
  },
  {
   "cell_type": "code",
   "execution_count": 40,
   "metadata": {},
   "outputs": [],
   "source": [
    "from collections import defaultdict\n",
    "def floyd_warshall(graph):\n",
    "    distance = defaultdict(dict)\n",
    "    vertices = graph.keys()\n",
    "    for v in vertices:\n",
    "        # Initialising distance from vertex to any other vertex as infinity\n",
    "        for u in vertices:\n",
    "            distance[v][u] = float('inf')\n",
    "        # For neighbors initialising the distance as actual distance between two nodes\n",
    "        for n in graph[v]:\n",
    "            distance[v][n] = graph[v][n]\n",
    "    # Initialising distance from each node to itself as 0\n",
    "    for v in vertices:\n",
    "        distance[v][v] = 0\n",
    "    for k in vertices:\n",
    "        for i in vertices:\n",
    "            for j in vertices:\n",
    "                if distance[i][k] + distance[k][j] < distance[i][j]:\n",
    "                    distance[i][j] = distance[i][k] + distance[k][j]\n",
    "    return distance                "
   ]
  },
  {
   "cell_type": "code",
   "execution_count": 41,
   "metadata": {},
   "outputs": [
    {
     "name": "stdout",
     "output_type": "stream",
     "text": [
      "0 {0: 0, 1: -1, 2: -2, 3: 0}\n",
      "1 {0: 4, 1: 0, 2: 2, 3: 4}\n",
      "2 {0: 5, 1: 1, 2: 0, 3: 2}\n",
      "3 {0: 3, 1: -1, 2: 1, 3: 0}\n"
     ]
    }
   ],
   "source": [
    "graph = {0: {2: -2},\n",
    "         1: {0:4, 2:3},\n",
    "         2: {3:2},\n",
    "         3: {1: -1}}\n",
    "distance = floyd_warshall(graph)\n",
    "for d in distance:\n",
    "    print(d, distance[d])"
   ]
  }
 ],
 "metadata": {
  "kernelspec": {
   "display_name": "Python 3",
   "language": "python",
   "name": "python3"
  },
  "language_info": {
   "codemirror_mode": {
    "name": "ipython",
    "version": 3
   },
   "file_extension": ".py",
   "mimetype": "text/x-python",
   "name": "python",
   "nbconvert_exporter": "python",
   "pygments_lexer": "ipython3",
   "version": "3.7.1"
  }
 },
 "nbformat": 4,
 "nbformat_minor": 2
}
