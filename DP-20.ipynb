{
 "cells": [
  {
   "cell_type": "markdown",
   "metadata": {},
   "source": [
    "# Interleaving Strings problem"
   ]
  },
  {
   "cell_type": "markdown",
   "metadata": {},
   "source": [
    "https://leetcode.com/articles/interleaving-strings/"
   ]
  },
  {
   "cell_type": "code",
   "execution_count": 6,
   "metadata": {},
   "outputs": [],
   "source": [
    "def check_interleaving(s1, s2, s3):\n",
    "    # For third string to be an interleaving of first and second\n",
    "    # string,it's length must be equal to sum of lengths of s1 \n",
    "    # s2\n",
    "    if(len(s3) != len(s1) + len(s2)):\n",
    "        return False\n",
    "    \n",
    "    table = [[False for i in range(len(s2)+1)] for j in range(len(s1)+1)]\n",
    "    for i in range(len(s1) + 1):\n",
    "        for j in range(len(s2)+1):\n",
    "            # first cell\n",
    "            if i == 0 and j == 0:\n",
    "                table[i][j] = True\n",
    "            # first row\n",
    "            elif i == 0:\n",
    "                table[i][j] = table[i][j-1] and s2[j-1] == s3[j-1]\n",
    "            # first column\n",
    "            elif j == 0:\n",
    "                table[i][j] = table[i-1][j] and s1[i-1] == s3[i-1]\n",
    "            else:\n",
    "                table[i][j] = (table[i][j-1] and s2[j-1] == s3[i+j-1]) or (table[i-1][j] and s1[i-1] == s3[i+j-1])\n",
    "    \n",
    "    return table[len(s1)][len(s2)]"
   ]
  },
  {
   "cell_type": "code",
   "execution_count": 7,
   "metadata": {},
   "outputs": [
    {
     "data": {
      "text/plain": [
       "True"
      ]
     },
     "execution_count": 7,
     "metadata": {},
     "output_type": "execute_result"
    }
   ],
   "source": [
    "check_interleaving('aax','abyc','abayaxc')"
   ]
  }
 ],
 "metadata": {
  "kernelspec": {
   "display_name": "Python 3",
   "language": "python",
   "name": "python3"
  },
  "language_info": {
   "codemirror_mode": {
    "name": "ipython",
    "version": 3
   },
   "file_extension": ".py",
   "mimetype": "text/x-python",
   "name": "python",
   "nbconvert_exporter": "python",
   "pygments_lexer": "ipython3",
   "version": "3.7.4"
  }
 },
 "nbformat": 4,
 "nbformat_minor": 2
}
