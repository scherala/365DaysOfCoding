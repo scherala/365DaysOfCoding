{
 "cells": [
  {
   "cell_type": "markdown",
   "metadata": {},
   "source": [
    "# Maximum Sum Sub Square matrix"
   ]
  },
  {
   "cell_type": "code",
   "execution_count": 24,
   "metadata": {},
   "outputs": [],
   "source": [
    "import numpy as np\n",
    "def get_max_sum_subsquare_matrix(input_matrix):\n",
    "    \n",
    "    rows = len(input_matrix)\n",
    "    columns = len(input_matrix[0])\n",
    "    result = [[0 for _ in range(columns+1)] for _ in range(rows+1)]\n",
    "    for i in range(1,rows+1):\n",
    "        for j in range(1,columns+1):\n",
    "            if input_matrix[i-1][j-1] == 1:\n",
    "                result[i][j] = 1 + min(result[i-1][j], result[i-1][j-1], result[i][j-1])\n",
    "    \n",
    "    return np.max(result)"
   ]
  },
  {
   "cell_type": "code",
   "execution_count": 25,
   "metadata": {},
   "outputs": [
    {
     "data": {
      "text/plain": [
       "3"
      ]
     },
     "execution_count": 25,
     "metadata": {},
     "output_type": "execute_result"
    }
   ],
   "source": [
    "input_matrix = [[0,0,1,0,1,1],[0,1,1,1,0,0],[0,0,1,1,1,1],[1,1,0,1,1,1],[1,1,1,1,1,1],[1,1,0,1,1,1],[1,0,1,1,1,1],[1,1,1,0,1,1]]\n",
    "get_max_sum_subsquare_matrix(input_matrix)"
   ]
  }
 ],
 "metadata": {
  "kernelspec": {
   "display_name": "Python 3",
   "language": "python",
   "name": "python3"
  },
  "language_info": {
   "codemirror_mode": {
    "name": "ipython",
    "version": 3
   },
   "file_extension": ".py",
   "mimetype": "text/x-python",
   "name": "python",
   "nbconvert_exporter": "python",
   "pygments_lexer": "ipython3",
   "version": "3.7.3"
  }
 },
 "nbformat": 4,
 "nbformat_minor": 4
}
