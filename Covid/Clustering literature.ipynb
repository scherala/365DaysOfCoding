{
 "cells": [
  {
   "cell_type": "markdown",
   "metadata": {},
   "source": [
    "# Imports and Paths"
   ]
  },
  {
   "cell_type": "code",
   "execution_count": 39,
   "metadata": {},
   "outputs": [],
   "source": [
    "import json\n",
    "import os\n",
    "import re\n",
    "import string\n",
    "import numpy as np\n",
    "import pandas as pd\n",
    "import glob\n",
    "from sklearn.cluster import KMeans \n",
    "from sklearn.feature_extraction.text import TfidfVectorizer\n",
    "from sklearn.decomposition import PCA\n",
    "from sklearn.preprocessing import normalize\n",
    "from sklearn.metrics import pairwise_distances\n",
    "from matplotlib import pyplot as plt\n",
    "import seaborn as sns\n",
    "from sklearn.cluster import KMeans\n",
    "from sklearn.model_selection import train_test_split\n",
    "\n",
    "\n",
    "# replace it with path on your desktop\n",
    "root_path = '/home/siri/Downloads/CORD-19-research-challenge'\n",
    "file_path = '/home/siri/Downloads/CORD-19-research-challenge/2020-03-13/all_sources_metadata_2020-03-13.csv'"
   ]
  },
  {
   "cell_type": "markdown",
   "metadata": {},
   "source": [
    "# Get Meta Data"
   ]
  },
  {
   "cell_type": "code",
   "execution_count": 3,
   "metadata": {},
   "outputs": [],
   "source": [
    "meta_df = pd.read_csv(file_path)"
   ]
  },
  {
   "cell_type": "code",
   "execution_count": 4,
   "metadata": {},
   "outputs": [
    {
     "data": {
      "text/html": [
       "<div>\n",
       "<style scoped>\n",
       "    .dataframe tbody tr th:only-of-type {\n",
       "        vertical-align: middle;\n",
       "    }\n",
       "\n",
       "    .dataframe tbody tr th {\n",
       "        vertical-align: top;\n",
       "    }\n",
       "\n",
       "    .dataframe thead th {\n",
       "        text-align: right;\n",
       "    }\n",
       "</style>\n",
       "<table border=\"1\" class=\"dataframe\">\n",
       "  <thead>\n",
       "    <tr style=\"text-align: right;\">\n",
       "      <th></th>\n",
       "      <th>sha</th>\n",
       "      <th>source_x</th>\n",
       "      <th>title</th>\n",
       "      <th>doi</th>\n",
       "      <th>pmcid</th>\n",
       "      <th>pubmed_id</th>\n",
       "      <th>license</th>\n",
       "      <th>abstract</th>\n",
       "      <th>publish_time</th>\n",
       "      <th>authors</th>\n",
       "      <th>journal</th>\n",
       "      <th>Microsoft Academic Paper ID</th>\n",
       "      <th>WHO #Covidence</th>\n",
       "      <th>has_full_text</th>\n",
       "    </tr>\n",
       "  </thead>\n",
       "  <tbody>\n",
       "    <tr>\n",
       "      <th>0</th>\n",
       "      <td>c630ebcdf30652f0422c3ec12a00b50241dc9bd9</td>\n",
       "      <td>CZI</td>\n",
       "      <td>Angiotensin-converting enzyme 2 (ACE2) as a SA...</td>\n",
       "      <td>10.1007/s00134-020-05985-9</td>\n",
       "      <td>NaN</td>\n",
       "      <td>32125455.0</td>\n",
       "      <td>cc-by-nc</td>\n",
       "      <td>NaN</td>\n",
       "      <td>2020</td>\n",
       "      <td>Zhang, Haibo; Penninger, Josef M.; Li, Yimin; ...</td>\n",
       "      <td>Intensive Care Med</td>\n",
       "      <td>2.002765e+09</td>\n",
       "      <td>#3252</td>\n",
       "      <td>True</td>\n",
       "    </tr>\n",
       "    <tr>\n",
       "      <th>1</th>\n",
       "      <td>53eccda7977a31e3d0f565c884da036b1e85438e</td>\n",
       "      <td>CZI</td>\n",
       "      <td>Comparative genetic analysis of the novel coro...</td>\n",
       "      <td>10.1038/s41421-020-0147-1</td>\n",
       "      <td>NaN</td>\n",
       "      <td>NaN</td>\n",
       "      <td>cc-by</td>\n",
       "      <td>NaN</td>\n",
       "      <td>2020</td>\n",
       "      <td>Cao, Yanan; Li, Lin; Feng, Zhimin; Wan, Shengq...</td>\n",
       "      <td>Cell Discovery</td>\n",
       "      <td>3.003431e+09</td>\n",
       "      <td>#1861</td>\n",
       "      <td>True</td>\n",
       "    </tr>\n",
       "    <tr>\n",
       "      <th>2</th>\n",
       "      <td>210a892deb1c61577f6fba58505fd65356ce6636</td>\n",
       "      <td>CZI</td>\n",
       "      <td>Incubation Period and Other Epidemiological Ch...</td>\n",
       "      <td>10.3390/jcm9020538</td>\n",
       "      <td>NaN</td>\n",
       "      <td>NaN</td>\n",
       "      <td>cc-by</td>\n",
       "      <td>The geographic spread of 2019 novel coronaviru...</td>\n",
       "      <td>2020</td>\n",
       "      <td>Linton, M. Natalie; Kobayashi, Tetsuro; Yang, ...</td>\n",
       "      <td>Journal of Clinical Medicine</td>\n",
       "      <td>3.006065e+09</td>\n",
       "      <td>#1043</td>\n",
       "      <td>True</td>\n",
       "    </tr>\n",
       "    <tr>\n",
       "      <th>3</th>\n",
       "      <td>e3b40cc8e0e137c416b4a2273a4dca94ae8178cc</td>\n",
       "      <td>CZI</td>\n",
       "      <td>Characteristics of and Public Health Responses...</td>\n",
       "      <td>10.3390/jcm9020575</td>\n",
       "      <td>NaN</td>\n",
       "      <td>32093211.0</td>\n",
       "      <td>cc-by</td>\n",
       "      <td>In December 2019, cases of unidentified pneumo...</td>\n",
       "      <td>2020</td>\n",
       "      <td>Deng, Sheng-Qun; Peng, Hong-Juan</td>\n",
       "      <td>J Clin Med</td>\n",
       "      <td>1.776631e+08</td>\n",
       "      <td>#1999</td>\n",
       "      <td>True</td>\n",
       "    </tr>\n",
       "    <tr>\n",
       "      <th>4</th>\n",
       "      <td>92c2c9839304b4f2bc1276d41b1aa885d8b364fd</td>\n",
       "      <td>CZI</td>\n",
       "      <td>Imaging changes in severe COVID-19 pneumonia</td>\n",
       "      <td>10.1007/s00134-020-05976-w</td>\n",
       "      <td>NaN</td>\n",
       "      <td>32125453.0</td>\n",
       "      <td>cc-by-nc</td>\n",
       "      <td>NaN</td>\n",
       "      <td>2020</td>\n",
       "      <td>Zhang, Wei</td>\n",
       "      <td>Intensive Care Med</td>\n",
       "      <td>3.006643e+09</td>\n",
       "      <td>#3242</td>\n",
       "      <td>False</td>\n",
       "    </tr>\n",
       "  </tbody>\n",
       "</table>\n",
       "</div>"
      ],
      "text/plain": [
       "                                        sha source_x  \\\n",
       "0  c630ebcdf30652f0422c3ec12a00b50241dc9bd9      CZI   \n",
       "1  53eccda7977a31e3d0f565c884da036b1e85438e      CZI   \n",
       "2  210a892deb1c61577f6fba58505fd65356ce6636      CZI   \n",
       "3  e3b40cc8e0e137c416b4a2273a4dca94ae8178cc      CZI   \n",
       "4  92c2c9839304b4f2bc1276d41b1aa885d8b364fd      CZI   \n",
       "\n",
       "                                               title  \\\n",
       "0  Angiotensin-converting enzyme 2 (ACE2) as a SA...   \n",
       "1  Comparative genetic analysis of the novel coro...   \n",
       "2  Incubation Period and Other Epidemiological Ch...   \n",
       "3  Characteristics of and Public Health Responses...   \n",
       "4       Imaging changes in severe COVID-19 pneumonia   \n",
       "\n",
       "                          doi pmcid   pubmed_id   license  \\\n",
       "0  10.1007/s00134-020-05985-9   NaN  32125455.0  cc-by-nc   \n",
       "1   10.1038/s41421-020-0147-1   NaN         NaN     cc-by   \n",
       "2          10.3390/jcm9020538   NaN         NaN     cc-by   \n",
       "3          10.3390/jcm9020575   NaN  32093211.0     cc-by   \n",
       "4  10.1007/s00134-020-05976-w   NaN  32125453.0  cc-by-nc   \n",
       "\n",
       "                                            abstract publish_time  \\\n",
       "0                                                NaN         2020   \n",
       "1                                                NaN         2020   \n",
       "2  The geographic spread of 2019 novel coronaviru...         2020   \n",
       "3  In December 2019, cases of unidentified pneumo...         2020   \n",
       "4                                                NaN         2020   \n",
       "\n",
       "                                             authors  \\\n",
       "0  Zhang, Haibo; Penninger, Josef M.; Li, Yimin; ...   \n",
       "1  Cao, Yanan; Li, Lin; Feng, Zhimin; Wan, Shengq...   \n",
       "2  Linton, M. Natalie; Kobayashi, Tetsuro; Yang, ...   \n",
       "3                   Deng, Sheng-Qun; Peng, Hong-Juan   \n",
       "4                                         Zhang, Wei   \n",
       "\n",
       "                        journal  Microsoft Academic Paper ID WHO #Covidence  \\\n",
       "0            Intensive Care Med                 2.002765e+09          #3252   \n",
       "1                Cell Discovery                 3.003431e+09          #1861   \n",
       "2  Journal of Clinical Medicine                 3.006065e+09          #1043   \n",
       "3                    J Clin Med                 1.776631e+08          #1999   \n",
       "4            Intensive Care Med                 3.006643e+09          #3242   \n",
       "\n",
       "  has_full_text  \n",
       "0          True  \n",
       "1          True  \n",
       "2          True  \n",
       "3          True  \n",
       "4         False  "
      ]
     },
     "execution_count": 4,
     "metadata": {},
     "output_type": "execute_result"
    }
   ],
   "source": [
    "meta_df.head()"
   ]
  },
  {
   "cell_type": "code",
   "execution_count": 5,
   "metadata": {},
   "outputs": [
    {
     "name": "stdout",
     "output_type": "stream",
     "text": [
      "<class 'pandas.core.frame.DataFrame'>\n",
      "RangeIndex: 29500 entries, 0 to 29499\n",
      "Data columns (total 14 columns):\n",
      " #   Column                       Non-Null Count  Dtype  \n",
      "---  ------                       --------------  -----  \n",
      " 0   sha                          17420 non-null  object \n",
      " 1   source_x                     29500 non-null  object \n",
      " 2   title                        29130 non-null  object \n",
      " 3   doi                          26357 non-null  object \n",
      " 4   pmcid                        27337 non-null  object \n",
      " 5   pubmed_id                    16730 non-null  float64\n",
      " 6   license                      17692 non-null  object \n",
      " 7   abstract                     26553 non-null  object \n",
      " 8   publish_time                 18248 non-null  object \n",
      " 9   authors                      28554 non-null  object \n",
      " 10  journal                      17791 non-null  object \n",
      " 11  Microsoft Academic Paper ID  1134 non-null   float64\n",
      " 12  WHO #Covidence               1236 non-null   object \n",
      " 13  has_full_text                17420 non-null  object \n",
      "dtypes: float64(2), object(12)\n",
      "memory usage: 3.2+ MB\n"
     ]
    }
   ],
   "source": [
    "meta_df.info()"
   ]
  },
  {
   "cell_type": "markdown",
   "metadata": {},
   "source": [
    "# Get filenames of whitepapers"
   ]
  },
  {
   "cell_type": "code",
   "execution_count": 6,
   "metadata": {},
   "outputs": [
    {
     "data": {
      "text/plain": [
       "13202"
      ]
     },
     "execution_count": 6,
     "metadata": {},
     "output_type": "execute_result"
    }
   ],
   "source": [
    "# these are in json format\n",
    "all_json = glob.glob(f'{root_path}/**/*.json',recursive=True)\n",
    "len(all_json)"
   ]
  },
  {
   "cell_type": "markdown",
   "metadata": {},
   "source": [
    "# Read main contents of each file"
   ]
  },
  {
   "cell_type": "code",
   "execution_count": 7,
   "metadata": {},
   "outputs": [],
   "source": [
    "# Read paper id, abstract and body\n",
    "class Json_reader:\n",
    "    def __init__(self, file_path):\n",
    "        with open(file_path) as file:\n",
    "            content = json.load(file)\n",
    "            self.paper_id = content['paper_id']\n",
    "            self.abstract = []\n",
    "            self.body_text = []\n",
    "            for entry in content['abstract']:\n",
    "                self.abstract.append(entry['text'])\n",
    "            for entry in content['body_text']:\n",
    "                self.body_text.append(entry['text'])\n",
    "            self.abstract = '\\n'.join(self.abstract)\n",
    "            self.body_text = '\\n'.join(self.body_text)\n",
    "    def __repr__(self):\n",
    "        return f'{self.paper_id} : {self.abstract[:200]}....{self.body_text[:200]}..'"
   ]
  },
  {
   "cell_type": "markdown",
   "metadata": {},
   "source": [
    "# Peek into the first row"
   ]
  },
  {
   "cell_type": "code",
   "execution_count": 8,
   "metadata": {},
   "outputs": [
    {
     "name": "stdout",
     "output_type": "stream",
     "text": [
      "346f7bb753e53598554deae2f428d0ce66a8320a : A prospective study of a dromedary camel herd during the 2013-14 calving season showed Middle East respiratory syndrome coronavirus infection of calves and adults. Virus was isolated from the nose and....We studied dromedaries at 2 farms in Al-Hasa, 4-5 km apart. Farm A had 70 animals; 4 were 1 month of age, 8 were ≈1 year of age, and the rest were adults (>2 years of age). The herd did not go to past..\n"
     ]
    }
   ],
   "source": [
    "first_row = Json_reader(all_json[0])\n",
    "print(first_row)"
   ]
  },
  {
   "cell_type": "markdown",
   "metadata": {},
   "source": [
    "# Converting to a Dataframe"
   ]
  },
  {
   "cell_type": "code",
   "execution_count": 9,
   "metadata": {},
   "outputs": [
    {
     "data": {
      "text/html": [
       "<div>\n",
       "<style scoped>\n",
       "    .dataframe tbody tr th:only-of-type {\n",
       "        vertical-align: middle;\n",
       "    }\n",
       "\n",
       "    .dataframe tbody tr th {\n",
       "        vertical-align: top;\n",
       "    }\n",
       "\n",
       "    .dataframe thead th {\n",
       "        text-align: right;\n",
       "    }\n",
       "</style>\n",
       "<table border=\"1\" class=\"dataframe\">\n",
       "  <thead>\n",
       "    <tr style=\"text-align: right;\">\n",
       "      <th></th>\n",
       "      <th>paper_id</th>\n",
       "      <th>abstract</th>\n",
       "      <th>body_text</th>\n",
       "      <th>title</th>\n",
       "      <th>journal</th>\n",
       "    </tr>\n",
       "  </thead>\n",
       "  <tbody>\n",
       "    <tr>\n",
       "      <th>0</th>\n",
       "      <td>346f7bb753e53598554deae2f428d0ce66a8320a</td>\n",
       "      <td>A prospective study of a dromedary camel herd ...</td>\n",
       "      <td>We studied dromedaries at 2 farms in Al-Hasa, ...</td>\n",
       "      <td>MERS Coronavirus in Dromedary Camel Herd, Saud...</td>\n",
       "      <td>Emerg Infect Dis</td>\n",
       "    </tr>\n",
       "    <tr>\n",
       "      <th>1</th>\n",
       "      <td>0e547f3723a50ef4f55c873f2a65dfbee42cd655</td>\n",
       "      <td></td>\n",
       "      <td>(10 −1 -10 −9 ) plus 1 negative control (phosp...</td>\n",
       "      <td>Protocol for Metagenomic Virus Detection in Cl...</td>\n",
       "      <td>Emerg Infect Dis</td>\n",
       "    </tr>\n",
       "    <tr>\n",
       "      <th>2</th>\n",
       "      <td>e1dd5b5b1884508b0e49421388eb658f9f9949e1</td>\n",
       "      <td>The aim of this review is to examine the cause...</td>\n",
       "      <td>Pharyngitis is inflammation of the oropharynx....</td>\n",
       "      <td>Environmental and non-infectious factors in th...</td>\n",
       "      <td>Inflamm Res</td>\n",
       "    </tr>\n",
       "    <tr>\n",
       "      <th>3</th>\n",
       "      <td>f76e23d2dce15bbfa44c92cb917bf718ade1472e</td>\n",
       "      <td></td>\n",
       "      <td>O utbreaks of severe acute respiratory syndrom...</td>\n",
       "      <td>Pets in Voluntary Household Quarantine</td>\n",
       "      <td>Emerg Infect Dis</td>\n",
       "    </tr>\n",
       "    <tr>\n",
       "      <th>4</th>\n",
       "      <td>768fb5bff1898a4076849b7d5318402a62cb0bfe</td>\n",
       "      <td></td>\n",
       "      <td>Dromedary camels from Africa and Arabia are an...</td>\n",
       "      <td>Serologic Evidence for MERS-CoV Infection in D...</td>\n",
       "      <td>Emerg Infect Dis</td>\n",
       "    </tr>\n",
       "  </tbody>\n",
       "</table>\n",
       "</div>"
      ],
      "text/plain": [
       "                                   paper_id  \\\n",
       "0  346f7bb753e53598554deae2f428d0ce66a8320a   \n",
       "1  0e547f3723a50ef4f55c873f2a65dfbee42cd655   \n",
       "2  e1dd5b5b1884508b0e49421388eb658f9f9949e1   \n",
       "3  f76e23d2dce15bbfa44c92cb917bf718ade1472e   \n",
       "4  768fb5bff1898a4076849b7d5318402a62cb0bfe   \n",
       "\n",
       "                                            abstract  \\\n",
       "0  A prospective study of a dromedary camel herd ...   \n",
       "1                                                      \n",
       "2  The aim of this review is to examine the cause...   \n",
       "3                                                      \n",
       "4                                                      \n",
       "\n",
       "                                           body_text  \\\n",
       "0  We studied dromedaries at 2 farms in Al-Hasa, ...   \n",
       "1  (10 −1 -10 −9 ) plus 1 negative control (phosp...   \n",
       "2  Pharyngitis is inflammation of the oropharynx....   \n",
       "3  O utbreaks of severe acute respiratory syndrom...   \n",
       "4  Dromedary camels from Africa and Arabia are an...   \n",
       "\n",
       "                                               title           journal  \n",
       "0  MERS Coronavirus in Dromedary Camel Herd, Saud...  Emerg Infect Dis  \n",
       "1  Protocol for Metagenomic Virus Detection in Cl...  Emerg Infect Dis  \n",
       "2  Environmental and non-infectious factors in th...       Inflamm Res  \n",
       "3             Pets in Voluntary Household Quarantine  Emerg Infect Dis  \n",
       "4  Serologic Evidence for MERS-CoV Infection in D...  Emerg Infect Dis  "
      ]
     },
     "execution_count": 9,
     "metadata": {},
     "output_type": "execute_result"
    }
   ],
   "source": [
    "literature_dict = {'paper_id' :[],'abstract':[],'body_text':[],'title':[],'journal':[]}\n",
    "\n",
    "for entry in all_json:\n",
    "    content = Json_reader(entry)\n",
    "    \n",
    "    meta_info = meta_df.loc[meta_df['sha'] == content.paper_id]\n",
    "    if len(meta_info) == 0:\n",
    "        continue\n",
    "    literature_dict['paper_id'].append(content.paper_id)\n",
    "    literature_dict['abstract'].append(content.abstract)\n",
    "    literature_dict['body_text'].append(content.body_text)\n",
    "    \n",
    "    #authors = meta_info['authors'].values[0]\n",
    "    #if pd.isna(authors):\n",
    "    #    literature_dict['authors'].append(authors)\n",
    "    #else:\n",
    "    #    literature_dict['authors'].append('. '.join(authors.split(';')))\n",
    "    literature_dict['title'].append(meta_info['title'].values[0])\n",
    "    literature_dict['journal'].append(meta_info['journal'].values[0])\n",
    "df_covid_lit = pd.DataFrame(literature_dict)\n",
    "df_covid_lit.head()\n"
   ]
  },
  {
   "cell_type": "markdown",
   "metadata": {},
   "source": [
    "# Adding the word counts of abstract and body"
   ]
  },
  {
   "cell_type": "code",
   "execution_count": 10,
   "metadata": {},
   "outputs": [
    {
     "data": {
      "text/html": [
       "<div>\n",
       "<style scoped>\n",
       "    .dataframe tbody tr th:only-of-type {\n",
       "        vertical-align: middle;\n",
       "    }\n",
       "\n",
       "    .dataframe tbody tr th {\n",
       "        vertical-align: top;\n",
       "    }\n",
       "\n",
       "    .dataframe thead th {\n",
       "        text-align: right;\n",
       "    }\n",
       "</style>\n",
       "<table border=\"1\" class=\"dataframe\">\n",
       "  <thead>\n",
       "    <tr style=\"text-align: right;\">\n",
       "      <th></th>\n",
       "      <th>paper_id</th>\n",
       "      <th>abstract</th>\n",
       "      <th>body_text</th>\n",
       "      <th>title</th>\n",
       "      <th>journal</th>\n",
       "      <th>abstract_word_count</th>\n",
       "      <th>body_word_count</th>\n",
       "    </tr>\n",
       "  </thead>\n",
       "  <tbody>\n",
       "    <tr>\n",
       "      <th>0</th>\n",
       "      <td>346f7bb753e53598554deae2f428d0ce66a8320a</td>\n",
       "      <td>A prospective study of a dromedary camel herd ...</td>\n",
       "      <td>We studied dromedaries at 2 farms in Al-Hasa, ...</td>\n",
       "      <td>MERS Coronavirus in Dromedary Camel Herd, Saud...</td>\n",
       "      <td>Emerg Infect Dis</td>\n",
       "      <td>48</td>\n",
       "      <td>1181</td>\n",
       "    </tr>\n",
       "    <tr>\n",
       "      <th>1</th>\n",
       "      <td>0e547f3723a50ef4f55c873f2a65dfbee42cd655</td>\n",
       "      <td></td>\n",
       "      <td>(10 −1 -10 −9 ) plus 1 negative control (phosp...</td>\n",
       "      <td>Protocol for Metagenomic Virus Detection in Cl...</td>\n",
       "      <td>Emerg Infect Dis</td>\n",
       "      <td>0</td>\n",
       "      <td>768</td>\n",
       "    </tr>\n",
       "    <tr>\n",
       "      <th>2</th>\n",
       "      <td>e1dd5b5b1884508b0e49421388eb658f9f9949e1</td>\n",
       "      <td>The aim of this review is to examine the cause...</td>\n",
       "      <td>Pharyngitis is inflammation of the oropharynx....</td>\n",
       "      <td>Environmental and non-infectious factors in th...</td>\n",
       "      <td>Inflamm Res</td>\n",
       "      <td>186</td>\n",
       "      <td>5390</td>\n",
       "    </tr>\n",
       "    <tr>\n",
       "      <th>3</th>\n",
       "      <td>f76e23d2dce15bbfa44c92cb917bf718ade1472e</td>\n",
       "      <td></td>\n",
       "      <td>O utbreaks of severe acute respiratory syndrom...</td>\n",
       "      <td>Pets in Voluntary Household Quarantine</td>\n",
       "      <td>Emerg Infect Dis</td>\n",
       "      <td>0</td>\n",
       "      <td>968</td>\n",
       "    </tr>\n",
       "    <tr>\n",
       "      <th>4</th>\n",
       "      <td>768fb5bff1898a4076849b7d5318402a62cb0bfe</td>\n",
       "      <td></td>\n",
       "      <td>Dromedary camels from Africa and Arabia are an...</td>\n",
       "      <td>Serologic Evidence for MERS-CoV Infection in D...</td>\n",
       "      <td>Emerg Infect Dis</td>\n",
       "      <td>0</td>\n",
       "      <td>832</td>\n",
       "    </tr>\n",
       "  </tbody>\n",
       "</table>\n",
       "</div>"
      ],
      "text/plain": [
       "                                   paper_id  \\\n",
       "0  346f7bb753e53598554deae2f428d0ce66a8320a   \n",
       "1  0e547f3723a50ef4f55c873f2a65dfbee42cd655   \n",
       "2  e1dd5b5b1884508b0e49421388eb658f9f9949e1   \n",
       "3  f76e23d2dce15bbfa44c92cb917bf718ade1472e   \n",
       "4  768fb5bff1898a4076849b7d5318402a62cb0bfe   \n",
       "\n",
       "                                            abstract  \\\n",
       "0  A prospective study of a dromedary camel herd ...   \n",
       "1                                                      \n",
       "2  The aim of this review is to examine the cause...   \n",
       "3                                                      \n",
       "4                                                      \n",
       "\n",
       "                                           body_text  \\\n",
       "0  We studied dromedaries at 2 farms in Al-Hasa, ...   \n",
       "1  (10 −1 -10 −9 ) plus 1 negative control (phosp...   \n",
       "2  Pharyngitis is inflammation of the oropharynx....   \n",
       "3  O utbreaks of severe acute respiratory syndrom...   \n",
       "4  Dromedary camels from Africa and Arabia are an...   \n",
       "\n",
       "                                               title           journal  \\\n",
       "0  MERS Coronavirus in Dromedary Camel Herd, Saud...  Emerg Infect Dis   \n",
       "1  Protocol for Metagenomic Virus Detection in Cl...  Emerg Infect Dis   \n",
       "2  Environmental and non-infectious factors in th...       Inflamm Res   \n",
       "3             Pets in Voluntary Household Quarantine  Emerg Infect Dis   \n",
       "4  Serologic Evidence for MERS-CoV Infection in D...  Emerg Infect Dis   \n",
       "\n",
       "   abstract_word_count  body_word_count  \n",
       "0                   48             1181  \n",
       "1                    0              768  \n",
       "2                  186             5390  \n",
       "3                    0              968  \n",
       "4                    0              832  "
      ]
     },
     "execution_count": 10,
     "metadata": {},
     "output_type": "execute_result"
    }
   ],
   "source": [
    "df_covid_lit['abstract_word_count'] = df_covid_lit['abstract'].apply(lambda x:len(x.strip().split()))\n",
    "df_covid_lit['body_word_count'] = df_covid_lit['body_text'].apply(lambda x:len(x.strip().split()))\n",
    "df_covid_lit.head()"
   ]
  },
  {
   "cell_type": "markdown",
   "metadata": {},
   "source": [
    "# Check to see the presence of duplicates"
   ]
  },
  {
   "cell_type": "code",
   "execution_count": 58,
   "metadata": {},
   "outputs": [
    {
     "data": {
      "text/plain": [
       "count     13202\n",
       "unique    11113\n",
       "top            \n",
       "freq       2073\n",
       "Name: abstract, dtype: object"
      ]
     },
     "execution_count": 58,
     "metadata": {},
     "output_type": "execute_result"
    }
   ],
   "source": [
    "df_covid_lit['abstract'].describe(include='all')"
   ]
  },
  {
   "cell_type": "markdown",
   "metadata": {},
   "source": [
    "# Drop duplicates"
   ]
  },
  {
   "cell_type": "code",
   "execution_count": 59,
   "metadata": {},
   "outputs": [],
   "source": [
    "df_covid_lit.drop_duplicates(['abstract','body_text'], inplace=True)"
   ]
  },
  {
   "cell_type": "markdown",
   "metadata": {},
   "source": [
    "# Check if body of the text document is unique"
   ]
  },
  {
   "cell_type": "code",
   "execution_count": 11,
   "metadata": {},
   "outputs": [
    {
     "data": {
      "text/plain": [
       "count                                                 13202\n",
       "unique                                                13192\n",
       "top       A 54-year-old Korean man living in Wuhan, Chin...\n",
       "freq                                                      2\n",
       "Name: body_text, dtype: object"
      ]
     },
     "execution_count": 11,
     "metadata": {},
     "output_type": "execute_result"
    }
   ],
   "source": [
    "df_covid_lit['body_text'].describe(include='all')"
   ]
  },
  {
   "cell_type": "code",
   "execution_count": 12,
   "metadata": {},
   "outputs": [
    {
     "data": {
      "text/html": [
       "<div>\n",
       "<style scoped>\n",
       "    .dataframe tbody tr th:only-of-type {\n",
       "        vertical-align: middle;\n",
       "    }\n",
       "\n",
       "    .dataframe tbody tr th {\n",
       "        vertical-align: top;\n",
       "    }\n",
       "\n",
       "    .dataframe thead th {\n",
       "        text-align: right;\n",
       "    }\n",
       "</style>\n",
       "<table border=\"1\" class=\"dataframe\">\n",
       "  <thead>\n",
       "    <tr style=\"text-align: right;\">\n",
       "      <th></th>\n",
       "      <th>abstract_word_count</th>\n",
       "      <th>body_word_count</th>\n",
       "    </tr>\n",
       "  </thead>\n",
       "  <tbody>\n",
       "    <tr>\n",
       "      <th>count</th>\n",
       "      <td>13202.000000</td>\n",
       "      <td>13202.000000</td>\n",
       "    </tr>\n",
       "    <tr>\n",
       "      <th>mean</th>\n",
       "      <td>210.911604</td>\n",
       "      <td>4259.200273</td>\n",
       "    </tr>\n",
       "    <tr>\n",
       "      <th>std</th>\n",
       "      <td>198.086664</td>\n",
       "      <td>4707.945123</td>\n",
       "    </tr>\n",
       "    <tr>\n",
       "      <th>min</th>\n",
       "      <td>0.000000</td>\n",
       "      <td>1.000000</td>\n",
       "    </tr>\n",
       "    <tr>\n",
       "      <th>25%</th>\n",
       "      <td>112.000000</td>\n",
       "      <td>2477.250000</td>\n",
       "    </tr>\n",
       "    <tr>\n",
       "      <th>50%</th>\n",
       "      <td>200.000000</td>\n",
       "      <td>3717.000000</td>\n",
       "    </tr>\n",
       "    <tr>\n",
       "      <th>75%</th>\n",
       "      <td>271.000000</td>\n",
       "      <td>5363.750000</td>\n",
       "    </tr>\n",
       "    <tr>\n",
       "      <th>max</th>\n",
       "      <td>4170.000000</td>\n",
       "      <td>241076.000000</td>\n",
       "    </tr>\n",
       "  </tbody>\n",
       "</table>\n",
       "</div>"
      ],
      "text/plain": [
       "       abstract_word_count  body_word_count\n",
       "count         13202.000000     13202.000000\n",
       "mean            210.911604      4259.200273\n",
       "std             198.086664      4707.945123\n",
       "min               0.000000         1.000000\n",
       "25%             112.000000      2477.250000\n",
       "50%             200.000000      3717.000000\n",
       "75%             271.000000      5363.750000\n",
       "max            4170.000000    241076.000000"
      ]
     },
     "execution_count": 12,
     "metadata": {},
     "output_type": "execute_result"
    }
   ],
   "source": [
    "df_covid_lit.describe()"
   ]
  },
  {
   "cell_type": "markdown",
   "metadata": {},
   "source": [
    "# Drop missing values"
   ]
  },
  {
   "cell_type": "code",
   "execution_count": 13,
   "metadata": {},
   "outputs": [
    {
     "name": "stdout",
     "output_type": "stream",
     "text": [
      "<class 'pandas.core.frame.DataFrame'>\n",
      "Int64Index: 12399 entries, 0 to 12398\n",
      "Data columns (total 7 columns):\n",
      " #   Column               Non-Null Count  Dtype \n",
      "---  ------               --------------  ----- \n",
      " 0   paper_id             12399 non-null  object\n",
      " 1   abstract             12399 non-null  object\n",
      " 2   body_text            12399 non-null  object\n",
      " 3   title                12399 non-null  object\n",
      " 4   journal              12399 non-null  object\n",
      " 5   abstract_word_count  12399 non-null  int64 \n",
      " 6   body_word_count      12399 non-null  int64 \n",
      "dtypes: int64(2), object(5)\n",
      "memory usage: 774.9+ KB\n"
     ]
    }
   ],
   "source": [
    "df_covid_lit.dropna(inplace=True)\n",
    "df_covid_lit.info()"
   ]
  },
  {
   "cell_type": "markdown",
   "metadata": {},
   "source": [
    "# Do text processing"
   ]
  },
  {
   "cell_type": "markdown",
   "metadata": {},
   "source": [
    "# Remove all characters except letters and numbers"
   ]
  },
  {
   "cell_type": "code",
   "execution_count": 14,
   "metadata": {},
   "outputs": [],
   "source": [
    "df_covid_lit['body_text'] = df_covid_lit['body_text'].apply(lambda x: re.sub('[^a-zA-Z0-9\\s]','',x))\n",
    "df_covid_lit['abstract'] = df_covid_lit['abstract'].apply(lambda x: re.sub('[^a-zA-Z0-9\\s]','',x))"
   ]
  },
  {
   "cell_type": "markdown",
   "metadata": {},
   "source": [
    "# Convert to lower case"
   ]
  },
  {
   "cell_type": "code",
   "execution_count": 15,
   "metadata": {},
   "outputs": [],
   "source": [
    "def lower_case(input_str):\n",
    "    input_str = input_str.lower()\n",
    "    return input_str\n",
    "\n",
    "df_covid_lit['body_text'] = df_covid_lit['body_text'].apply(lambda x: lower_case(x))\n",
    "df_covid_lit['abstract'] = df_covid_lit['abstract'].apply(lambda x: lower_case(x))"
   ]
  },
  {
   "cell_type": "code",
   "execution_count": 16,
   "metadata": {},
   "outputs": [
    {
     "data": {
      "text/html": [
       "<div>\n",
       "<style scoped>\n",
       "    .dataframe tbody tr th:only-of-type {\n",
       "        vertical-align: middle;\n",
       "    }\n",
       "\n",
       "    .dataframe tbody tr th {\n",
       "        vertical-align: top;\n",
       "    }\n",
       "\n",
       "    .dataframe thead th {\n",
       "        text-align: right;\n",
       "    }\n",
       "</style>\n",
       "<table border=\"1\" class=\"dataframe\">\n",
       "  <thead>\n",
       "    <tr style=\"text-align: right;\">\n",
       "      <th></th>\n",
       "      <th>paper_id</th>\n",
       "      <th>abstract</th>\n",
       "      <th>body_text</th>\n",
       "      <th>title</th>\n",
       "      <th>journal</th>\n",
       "      <th>abstract_word_count</th>\n",
       "      <th>body_word_count</th>\n",
       "    </tr>\n",
       "  </thead>\n",
       "  <tbody>\n",
       "    <tr>\n",
       "      <th>0</th>\n",
       "      <td>346f7bb753e53598554deae2f428d0ce66a8320a</td>\n",
       "      <td>a prospective study of a dromedary camel herd ...</td>\n",
       "      <td>we studied dromedaries at 2 farms in alhasa 45...</td>\n",
       "      <td>MERS Coronavirus in Dromedary Camel Herd, Saud...</td>\n",
       "      <td>Emerg Infect Dis</td>\n",
       "      <td>48</td>\n",
       "      <td>1181</td>\n",
       "    </tr>\n",
       "    <tr>\n",
       "      <th>1</th>\n",
       "      <td>0e547f3723a50ef4f55c873f2a65dfbee42cd655</td>\n",
       "      <td></td>\n",
       "      <td>10 1 10 9  plus 1 negative control phosphatebu...</td>\n",
       "      <td>Protocol for Metagenomic Virus Detection in Cl...</td>\n",
       "      <td>Emerg Infect Dis</td>\n",
       "      <td>0</td>\n",
       "      <td>768</td>\n",
       "    </tr>\n",
       "    <tr>\n",
       "      <th>2</th>\n",
       "      <td>e1dd5b5b1884508b0e49421388eb658f9f9949e1</td>\n",
       "      <td>the aim of this review is to examine the cause...</td>\n",
       "      <td>pharyngitis is inflammation of the oropharynx ...</td>\n",
       "      <td>Environmental and non-infectious factors in th...</td>\n",
       "      <td>Inflamm Res</td>\n",
       "      <td>186</td>\n",
       "      <td>5390</td>\n",
       "    </tr>\n",
       "    <tr>\n",
       "      <th>3</th>\n",
       "      <td>f76e23d2dce15bbfa44c92cb917bf718ade1472e</td>\n",
       "      <td></td>\n",
       "      <td>o utbreaks of severe acute respiratory syndrom...</td>\n",
       "      <td>Pets in Voluntary Household Quarantine</td>\n",
       "      <td>Emerg Infect Dis</td>\n",
       "      <td>0</td>\n",
       "      <td>968</td>\n",
       "    </tr>\n",
       "    <tr>\n",
       "      <th>4</th>\n",
       "      <td>768fb5bff1898a4076849b7d5318402a62cb0bfe</td>\n",
       "      <td></td>\n",
       "      <td>dromedary camels from africa and arabia are an...</td>\n",
       "      <td>Serologic Evidence for MERS-CoV Infection in D...</td>\n",
       "      <td>Emerg Infect Dis</td>\n",
       "      <td>0</td>\n",
       "      <td>832</td>\n",
       "    </tr>\n",
       "  </tbody>\n",
       "</table>\n",
       "</div>"
      ],
      "text/plain": [
       "                                   paper_id  \\\n",
       "0  346f7bb753e53598554deae2f428d0ce66a8320a   \n",
       "1  0e547f3723a50ef4f55c873f2a65dfbee42cd655   \n",
       "2  e1dd5b5b1884508b0e49421388eb658f9f9949e1   \n",
       "3  f76e23d2dce15bbfa44c92cb917bf718ade1472e   \n",
       "4  768fb5bff1898a4076849b7d5318402a62cb0bfe   \n",
       "\n",
       "                                            abstract  \\\n",
       "0  a prospective study of a dromedary camel herd ...   \n",
       "1                                                      \n",
       "2  the aim of this review is to examine the cause...   \n",
       "3                                                      \n",
       "4                                                      \n",
       "\n",
       "                                           body_text  \\\n",
       "0  we studied dromedaries at 2 farms in alhasa 45...   \n",
       "1  10 1 10 9  plus 1 negative control phosphatebu...   \n",
       "2  pharyngitis is inflammation of the oropharynx ...   \n",
       "3  o utbreaks of severe acute respiratory syndrom...   \n",
       "4  dromedary camels from africa and arabia are an...   \n",
       "\n",
       "                                               title           journal  \\\n",
       "0  MERS Coronavirus in Dromedary Camel Herd, Saud...  Emerg Infect Dis   \n",
       "1  Protocol for Metagenomic Virus Detection in Cl...  Emerg Infect Dis   \n",
       "2  Environmental and non-infectious factors in th...       Inflamm Res   \n",
       "3             Pets in Voluntary Household Quarantine  Emerg Infect Dis   \n",
       "4  Serologic Evidence for MERS-CoV Infection in D...  Emerg Infect Dis   \n",
       "\n",
       "   abstract_word_count  body_word_count  \n",
       "0                   48             1181  \n",
       "1                    0              768  \n",
       "2                  186             5390  \n",
       "3                    0              968  \n",
       "4                    0              832  "
      ]
     },
     "execution_count": 16,
     "metadata": {},
     "output_type": "execute_result"
    }
   ],
   "source": [
    "df_covid_lit.head()"
   ]
  },
  {
   "cell_type": "markdown",
   "metadata": {},
   "source": [
    "# Getting Bigrams- Optional"
   ]
  },
  {
   "cell_type": "code",
   "execution_count": 34,
   "metadata": {},
   "outputs": [],
   "source": [
    "text = df_covid_lit['body_text']\n",
    "text = pd.DataFrame(text.values, columns = ['body_text'])\n",
    "words = []\n",
    "for i in range(0,len(text)):\n",
    "    words.append(str(text.iloc[i]['body_text']).split(\" \"))\n",
    "bigrams = []\n",
    "for word in words:\n",
    "    bi_gram = []\n",
    "    for i in range(len(word)-2+1):\n",
    "        n_gram.append(\"\".join(word[i:i+2]))\n",
    "    bigrams.append(n_gram)"
   ]
  },
  {
   "cell_type": "markdown",
   "metadata": {},
   "source": [
    "# Using TF-IDF Vectorizer"
   ]
  },
  {
   "cell_type": "code",
   "execution_count": 33,
   "metadata": {},
   "outputs": [
    {
     "data": {
      "text/html": [
       "<div>\n",
       "<style scoped>\n",
       "    .dataframe tbody tr th:only-of-type {\n",
       "        vertical-align: middle;\n",
       "    }\n",
       "\n",
       "    .dataframe tbody tr th {\n",
       "        vertical-align: top;\n",
       "    }\n",
       "\n",
       "    .dataframe thead th {\n",
       "        text-align: right;\n",
       "    }\n",
       "</style>\n",
       "<table border=\"1\" class=\"dataframe\">\n",
       "  <thead>\n",
       "    <tr style=\"text-align: right;\">\n",
       "      <th></th>\n",
       "      <th>000</th>\n",
       "      <th>00001</th>\n",
       "      <th>0001</th>\n",
       "      <th>001</th>\n",
       "      <th>002</th>\n",
       "      <th>005</th>\n",
       "      <th>01</th>\n",
       "      <th>02</th>\n",
       "      <th>025</th>\n",
       "      <th>03</th>\n",
       "      <th>...</th>\n",
       "      <th>yielded</th>\n",
       "      <th>yields</th>\n",
       "      <th>young</th>\n",
       "      <th>younger</th>\n",
       "      <th>zero</th>\n",
       "      <th>zika</th>\n",
       "      <th>zikv</th>\n",
       "      <th>zinc</th>\n",
       "      <th>zone</th>\n",
       "      <th>zoonotic</th>\n",
       "    </tr>\n",
       "  </thead>\n",
       "  <tbody>\n",
       "    <tr>\n",
       "      <th>0</th>\n",
       "      <td>0.0</td>\n",
       "      <td>0.0</td>\n",
       "      <td>0.0</td>\n",
       "      <td>0.0</td>\n",
       "      <td>0.0</td>\n",
       "      <td>0.000000</td>\n",
       "      <td>0.0</td>\n",
       "      <td>0.000000</td>\n",
       "      <td>0.0</td>\n",
       "      <td>0.0</td>\n",
       "      <td>...</td>\n",
       "      <td>0.0</td>\n",
       "      <td>0.0</td>\n",
       "      <td>0.000000</td>\n",
       "      <td>0.0</td>\n",
       "      <td>0.0</td>\n",
       "      <td>0.0</td>\n",
       "      <td>0.0</td>\n",
       "      <td>0.0</td>\n",
       "      <td>0.0</td>\n",
       "      <td>0.000000</td>\n",
       "    </tr>\n",
       "    <tr>\n",
       "      <th>1</th>\n",
       "      <td>0.0</td>\n",
       "      <td>0.0</td>\n",
       "      <td>0.0</td>\n",
       "      <td>0.0</td>\n",
       "      <td>0.0</td>\n",
       "      <td>0.000000</td>\n",
       "      <td>0.0</td>\n",
       "      <td>0.034442</td>\n",
       "      <td>0.0</td>\n",
       "      <td>0.0</td>\n",
       "      <td>...</td>\n",
       "      <td>0.0</td>\n",
       "      <td>0.0</td>\n",
       "      <td>0.000000</td>\n",
       "      <td>0.0</td>\n",
       "      <td>0.0</td>\n",
       "      <td>0.0</td>\n",
       "      <td>0.0</td>\n",
       "      <td>0.0</td>\n",
       "      <td>0.0</td>\n",
       "      <td>0.000000</td>\n",
       "    </tr>\n",
       "    <tr>\n",
       "      <th>2</th>\n",
       "      <td>0.0</td>\n",
       "      <td>0.0</td>\n",
       "      <td>0.0</td>\n",
       "      <td>0.0</td>\n",
       "      <td>0.0</td>\n",
       "      <td>0.004019</td>\n",
       "      <td>0.0</td>\n",
       "      <td>0.000000</td>\n",
       "      <td>0.0</td>\n",
       "      <td>0.0</td>\n",
       "      <td>...</td>\n",
       "      <td>0.0</td>\n",
       "      <td>0.0</td>\n",
       "      <td>0.000000</td>\n",
       "      <td>0.0</td>\n",
       "      <td>0.0</td>\n",
       "      <td>0.0</td>\n",
       "      <td>0.0</td>\n",
       "      <td>0.0</td>\n",
       "      <td>0.0</td>\n",
       "      <td>0.000000</td>\n",
       "    </tr>\n",
       "    <tr>\n",
       "      <th>3</th>\n",
       "      <td>0.0</td>\n",
       "      <td>0.0</td>\n",
       "      <td>0.0</td>\n",
       "      <td>0.0</td>\n",
       "      <td>0.0</td>\n",
       "      <td>0.000000</td>\n",
       "      <td>0.0</td>\n",
       "      <td>0.000000</td>\n",
       "      <td>0.0</td>\n",
       "      <td>0.0</td>\n",
       "      <td>...</td>\n",
       "      <td>0.0</td>\n",
       "      <td>0.0</td>\n",
       "      <td>0.000000</td>\n",
       "      <td>0.0</td>\n",
       "      <td>0.0</td>\n",
       "      <td>0.0</td>\n",
       "      <td>0.0</td>\n",
       "      <td>0.0</td>\n",
       "      <td>0.0</td>\n",
       "      <td>0.028818</td>\n",
       "    </tr>\n",
       "    <tr>\n",
       "      <th>4</th>\n",
       "      <td>0.0</td>\n",
       "      <td>0.0</td>\n",
       "      <td>0.0</td>\n",
       "      <td>0.0</td>\n",
       "      <td>0.0</td>\n",
       "      <td>0.000000</td>\n",
       "      <td>0.0</td>\n",
       "      <td>0.000000</td>\n",
       "      <td>0.0</td>\n",
       "      <td>0.0</td>\n",
       "      <td>...</td>\n",
       "      <td>0.0</td>\n",
       "      <td>0.0</td>\n",
       "      <td>0.023215</td>\n",
       "      <td>0.0</td>\n",
       "      <td>0.0</td>\n",
       "      <td>0.0</td>\n",
       "      <td>0.0</td>\n",
       "      <td>0.0</td>\n",
       "      <td>0.0</td>\n",
       "      <td>0.051976</td>\n",
       "    </tr>\n",
       "  </tbody>\n",
       "</table>\n",
       "<p>5 rows × 4096 columns</p>\n",
       "</div>"
      ],
      "text/plain": [
       "   000  00001  0001  001  002       005   01        02  025   03  ...  \\\n",
       "0  0.0    0.0   0.0  0.0  0.0  0.000000  0.0  0.000000  0.0  0.0  ...   \n",
       "1  0.0    0.0   0.0  0.0  0.0  0.000000  0.0  0.034442  0.0  0.0  ...   \n",
       "2  0.0    0.0   0.0  0.0  0.0  0.004019  0.0  0.000000  0.0  0.0  ...   \n",
       "3  0.0    0.0   0.0  0.0  0.0  0.000000  0.0  0.000000  0.0  0.0  ...   \n",
       "4  0.0    0.0   0.0  0.0  0.0  0.000000  0.0  0.000000  0.0  0.0  ...   \n",
       "\n",
       "   yielded  yields     young  younger  zero  zika  zikv  zinc  zone  zoonotic  \n",
       "0      0.0     0.0  0.000000      0.0   0.0   0.0   0.0   0.0   0.0  0.000000  \n",
       "1      0.0     0.0  0.000000      0.0   0.0   0.0   0.0   0.0   0.0  0.000000  \n",
       "2      0.0     0.0  0.000000      0.0   0.0   0.0   0.0   0.0   0.0  0.000000  \n",
       "3      0.0     0.0  0.000000      0.0   0.0   0.0   0.0   0.0   0.0  0.028818  \n",
       "4      0.0     0.0  0.023215      0.0   0.0   0.0   0.0   0.0   0.0  0.051976  \n",
       "\n",
       "[5 rows x 4096 columns]"
      ]
     },
     "execution_count": 33,
     "metadata": {},
     "output_type": "execute_result"
    }
   ],
   "source": [
    "tf_idf_vectorizor = TfidfVectorizer(stop_words = 'english',max_features = 2**12)\n",
    "tf_idf = tf_idf_vectorizor.fit_transform(df_covid_lit['body_text'])\n",
    "tf_idf_norm = normalize(tf_idf)\n",
    "tf_idf_array = tf_idf_norm.toarray()\n",
    "pd.DataFrame(tf_idf_array, columns=tf_idf_vectorizor.get_feature_names()).head()"
   ]
  },
  {
   "cell_type": "markdown",
   "metadata": {},
   "source": [
    "# Using PCA and KMeans for Clustering"
   ]
  },
  {
   "cell_type": "code",
   "execution_count": 41,
   "metadata": {},
   "outputs": [],
   "source": [
    "sklearn_pca = PCA(n_components = 10)\n",
    "X = sklearn_pca.fit_transform(tf_idf_array)\n",
    "kmeans = KMeans(n_clusters=10, max_iter=600, algorithm = 'auto')\n",
    "fitted = kmeans.fit(X)\n",
    "prediction = kmeans.predict(X)"
   ]
  },
  {
   "cell_type": "code",
   "execution_count": 42,
   "metadata": {},
   "outputs": [
    {
     "data": {
      "image/png": "[encoded data removed]",
      "text/plain": [
       "<Figure size 432x288 with 1 Axes>"
      ]
     },
     "metadata": {
      "needs_background": "light"
     },
     "output_type": "display_data"
    }
   ],
   "source": [
    "plt.scatter(X[:, 0], X[:, 1], c=prediction, s=50, cmap='viridis')\n",
    "centers = fitted.cluster_centers_\n",
    "plt.scatter(centers[:, 0], centers[:, 1],c='black', s=300, alpha=0.6);"
   ]
  }
 ],
 "metadata": {
  "kernelspec": {
   "display_name": "Python 3",
   "language": "python",
   "name": "python3"
  },
  "language_info": {
   "codemirror_mode": {
    "name": "ipython",
    "version": 3
   },
   "file_extension": ".py",
   "mimetype": "text/x-python",
   "name": "python",
   "nbconvert_exporter": "python",
   "pygments_lexer": "ipython3",
   "version": "3.7.4"
  }
 },
 "nbformat": 4,
 "nbformat_minor": 4
}
