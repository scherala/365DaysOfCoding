{
 "cells": [
  {
   "cell_type": "markdown",
   "metadata": {},
   "source": [
    "# Counting Number of times a pattern occurs in a string"
   ]
  },
  {
   "cell_type": "code",
   "execution_count": 21,
   "metadata": {},
   "outputs": [],
   "source": [
    "def get_pattern_count(input_string, pattern):\n",
    "    \n",
    "    result = [[0 for i in range(len(pattern)+1)] for j in range(len(input_string)+1)]\n",
    "    \n",
    "    for i in range(len(pattern)+1):\n",
    "        result[i][0] = 1\n",
    "    rows = len(input_string)\n",
    "    columns = len(pattern)\n",
    "    for i in range(1,rows+1):\n",
    "        for j in range(1,columns+1):\n",
    "            if input_string[i-1] == pattern[j-1]:\n",
    "                result[i][j] = result[i-1][j-1] + result[i-1][j]\n",
    "            else:\n",
    "                result[i][j] = result[i-1][j]\n",
    "    return result"
   ]
  },
  {
   "cell_type": "code",
   "execution_count": 23,
   "metadata": {},
   "outputs": [
    {
     "name": "stdout",
     "output_type": "stream",
     "text": [
      "Count: 7\n"
     ]
    }
   ],
   "source": [
    "import numpy as np\n",
    "input_string = 'subsequence'\n",
    "pattern = 'sue'\n",
    "result = get_pattern_count(input_string, pattern)\n",
    "print('Count: {}'.format(np.max(result)))"
   ]
  }
 ],
 "metadata": {
  "kernelspec": {
   "display_name": "Python 3",
   "language": "python",
   "name": "python3"
  },
  "language_info": {
   "codemirror_mode": {
    "name": "ipython",
    "version": 3
   },
   "file_extension": ".py",
   "mimetype": "text/x-python",
   "name": "python",
   "nbconvert_exporter": "python",
   "pygments_lexer": "ipython3",
   "version": "3.7.3"
  }
 },
 "nbformat": 4,
 "nbformat_minor": 4
}
