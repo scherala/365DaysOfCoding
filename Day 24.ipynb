{
 "cells": [
  {
   "cell_type": "markdown",
   "metadata": {},
   "source": [
    "# Increasing subsequence with Maximum Sum"
   ]
  },
  {
   "cell_type": "code",
   "execution_count": 22,
   "metadata": {},
   "outputs": [],
   "source": [
    "def find_max_increasing_sum(in_list):\n",
    "    result = [0 for _ in range(len(in_list))]\n",
    "    \n",
    "    result[0] = in_list[0]\n",
    "    for i in range(1, len(in_list)):\n",
    "        for j in range(0, i):\n",
    "            if result[i] < result[j] and in_list[i] > in_list[j]:\n",
    "                result[i] = result[j]\n",
    "        result[i] += in_list[i]\n",
    "    return result"
   ]
  },
  {
   "cell_type": "code",
   "execution_count": 23,
   "metadata": {},
   "outputs": [
    {
     "name": "stdout",
     "output_type": "stream",
     "text": [
      "[8, 4, 20, 2, 18, 10, 34, 1, 19, 9, 33, 5, 30]\n",
      "Max increasing sum : 34\n"
     ]
    }
   ],
   "source": [
    "import numpy as np\n",
    "result = find_max_increasing_sum([8,4,12,2,10,6,14,1,9,5,13,3,11])\n",
    "print(result)\n",
    "print('Max increasing sum : {}'.format(np.max(result) ))"
   ]
  }
 ],
 "metadata": {
  "kernelspec": {
   "display_name": "Python 3",
   "language": "python",
   "name": "python3"
  },
  "language_info": {
   "codemirror_mode": {
    "name": "ipython",
    "version": 3
   },
   "file_extension": ".py",
   "mimetype": "text/x-python",
   "name": "python",
   "nbconvert_exporter": "python",
   "pygments_lexer": "ipython3",
   "version": "3.7.4"
  }
 },
 "nbformat": 4,
 "nbformat_minor": 4
}
