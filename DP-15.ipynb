{
 "cells": [
  {
   "cell_type": "markdown",
   "metadata": {},
   "source": [
    "# Levenshtein Distance (Edit Distance Problem)"
   ]
  },
  {
   "cell_type": "markdown",
   "metadata": {},
   "source": [
    "Levenshtein distance is the minimum number of single character edits(insertions, deletions and substituitions) required to change one word to another. Each of the operations have unit cost.\n",
    "\n",
    "Input : X, Y\n",
    "For example: X = kitten; Y = sitten\n",
    "For converting X to Y, we can replace k with s with a cost of 1. So, Levenshtein distance here would be 1."
   ]
  },
  {
   "cell_type": "code",
   "execution_count": 21,
   "metadata": {},
   "outputs": [],
   "source": [
    "def get_levenshtein_distance(X,Y):\n",
    "    #Building memoisation table\n",
    "    result = [[0 for i in range(len(X)+1)] for j in range(len(Y)+1)]\n",
    "    \n",
    "    for i in range(len(Y)+1):\n",
    "        result[i][0] = i\n",
    "    for i in range(len(X)+1):\n",
    "        result[0][i] = i\n",
    "    \n",
    "    # Row by row   \n",
    "    for i in range(1,len(Y)+1):\n",
    "        # Column by column\n",
    "        for j in range(1,len(X)+1):\n",
    "            if Y[i-1] ==  X[j-1]:\n",
    "                result[i][j] = result[i-1][j-1]\n",
    "            else:\n",
    "                result[i][j] = 1 + min(result[i-1][j], result[i][j-1], result[i-1][j-1])\n",
    "                \n",
    "        \n",
    "    return result\n",
    "    "
   ]
  },
  {
   "cell_type": "code",
   "execution_count": 25,
   "metadata": {},
   "outputs": [
    {
     "name": "stdout",
     "output_type": "stream",
     "text": [
      "[0, 1, 2, 3, 4, 5, 6]\n",
      "[1, 1, 2, 3, 4, 5, 6]\n",
      "[2, 2, 1, 2, 3, 4, 5]\n",
      "[3, 3, 2, 1, 2, 3, 4]\n",
      "[4, 4, 3, 2, 1, 2, 3]\n",
      "[5, 5, 4, 3, 2, 2, 3]\n",
      "[6, 6, 5, 4, 3, 3, 2]\n",
      "[7, 7, 6, 5, 4, 4, 3]\n",
      "Levenshtein distance :3\n"
     ]
    }
   ],
   "source": [
    "X = 'kitten'\n",
    "Y = 'sitting'\n",
    "table = get_levenshtein_distance(X,Y)\n",
    "for row in table:\n",
    "    print(row)\n",
    "print('Levenshtein distance :{}'.format(table[len(Y)][len(X)]))"
   ]
  }
 ],
 "metadata": {
  "kernelspec": {
   "display_name": "Python 3",
   "language": "python",
   "name": "python3"
  },
  "language_info": {
   "codemirror_mode": {
    "name": "ipython",
    "version": 3
   },
   "file_extension": ".py",
   "mimetype": "text/x-python",
   "name": "python",
   "nbconvert_exporter": "python",
   "pygments_lexer": "ipython3",
   "version": "3.7.4"
  }
 },
 "nbformat": 4,
 "nbformat_minor": 2
}
