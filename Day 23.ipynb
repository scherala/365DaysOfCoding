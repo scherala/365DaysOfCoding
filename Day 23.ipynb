{
 "cells": [
  {
   "cell_type": "markdown",
   "metadata": {},
   "source": [
    "# Longest Bitonic Sequence"
   ]
  },
  {
   "cell_type": "code",
   "execution_count": 16,
   "metadata": {},
   "outputs": [],
   "source": [
    "import numpy as np\n",
    "def longest_bitonic_seq(input_array):\n",
    "    ar_len = len(input_array)\n",
    "    # Initialise two arrays\n",
    "    inc_fromleft = [1 for i in range(ar_len)]\n",
    "    inc_fromright = [1 for j in range(ar_len)]\n",
    "    \n",
    "    for i in range(1,ar_len):\n",
    "        for j in range(i):\n",
    "            if input_array[i] > input_array[j]:\n",
    "                inc_fromleft[i] = max(inc_fromleft[i],inc_fromleft[j]+1)\n",
    "     \n",
    "    for i in range(ar_len-2,-1,-1):\n",
    "        for j in range(ar_len-1,i,-1):\n",
    "            if input_array[i] > input_array[j]:\n",
    "                inc_fromright[i] = max(inc_fromright[i],inc_fromright[j]+1)\n",
    "    \n",
    "    # Adding two arrays, subtracting 1 from them and getting the max length\n",
    "    return (np.max(np.add(inc_fromleft, inc_fromright)-1))\n",
    "                "
   ]
  },
  {
   "cell_type": "code",
   "execution_count": 17,
   "metadata": {},
   "outputs": [
    {
     "data": {
      "text/plain": [
       "5"
      ]
     },
     "execution_count": 17,
     "metadata": {},
     "output_type": "execute_result"
    }
   ],
   "source": [
    "longest_bitonic_seq([2,-1,4,3,5,-1,3,2])"
   ]
  }
 ],
 "metadata": {
  "kernelspec": {
   "display_name": "Python 3",
   "language": "python",
   "name": "python3"
  },
  "language_info": {
   "codemirror_mode": {
    "name": "ipython",
    "version": 3
   },
   "file_extension": ".py",
   "mimetype": "text/x-python",
   "name": "python",
   "nbconvert_exporter": "python",
   "pygments_lexer": "ipython3",
   "version": "3.7.4"
  }
 },
 "nbformat": 4,
 "nbformat_minor": 4
}
