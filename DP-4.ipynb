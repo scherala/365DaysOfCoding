{
 "cells": [
  {
   "cell_type": "markdown",
   "metadata": {},
   "source": [
    "# Finding Longest Palindromic Subsequence"
   ]
  },
  {
   "cell_type": "markdown",
   "metadata": {},
   "source": [
    "For all Dynamic Programming Problems, coming up with the subproblem is kind of difficult.So, one tip here is to think of the brute force approach and see if that gives a hint to the subproblem.\n",
    "\n",
    "So, the brute force approach here is to list all the possible subsequences and then filter the palindromes and then find the one with greatest length."
   ]
  },
  {
   "cell_type": "markdown",
   "metadata": {},
   "source": [
    "# Brute Force Approach"
   ]
  },
  {
   "cell_type": "code",
   "execution_count": 4,
   "metadata": {},
   "outputs": [],
   "source": [
    "def find_subsequences(s):\n",
    "    set_s = set()\n",
    "    # Iterating over entire string\n",
    "    for i in range(len(s)):\n",
    "        for j in range(len(s), -1, -1):\n",
    "            #Substring from i to j\n",
    "            sub_string = s[i:j]\n",
    "            if sub_string not in set_s:\n",
    "                set_s.add(sub_string)\n",
    "                \n",
    "            for k in range(1, len(sub_string)):\n",
    "                temp = sub_string\n",
    "                new_substring = temp[:k] + temp[(k+1):]\n",
    "                #print('Substring is {} and new substring after replacing {}th character is: {}'.format(temp, k, new_substring))\n",
    "                if new_substring not in set_s:\n",
    "                    set_s.add(new_substring)\n",
    "                    \n",
    "    return set_s\n",
    "    "
   ]
  },
  {
   "cell_type": "code",
   "execution_count": 3,
   "metadata": {},
   "outputs": [],
   "source": [
    "\n",
    "def brute_force_lps(s):\n",
    "    all_subsequences = [s for s in find_subsequences('agbdba') if len(s.strip()) > 0 ]\n",
    "    palindromic_seq = []\n",
    "    is_palindrome = True\n",
    "    max_len = 0\n",
    "    for s in all_subsequences:\n",
    "        for i in range(0, len(s)//2):\n",
    "            if s[i] != s[len(s)-i-1]:\n",
    "                is_palindrome = False\n",
    "        if is_palindrome:\n",
    "            if len(s) > max_len:\n",
    "                max_len = len(s)\n",
    "            palindromic_seq.append(s)\n",
    "    return max_len, palindromic_seq\n",
    "            \n",
    "        "
   ]
  },
  {
   "cell_type": "code",
   "execution_count": 9,
   "metadata": {},
   "outputs": [],
   "source": [
    "def longestPalindromeSubseq(s):\n",
    "        len_s = len(s)\n",
    "        result = [[0 for i in range(len_s)] for j in range(len_s)]\n",
    "        # Implies starting and ending at the same index\n",
    "        for i in range(len_s):\n",
    "            result[i][i] = 1 \n",
    "            \n",
    "        for k in range(1, len_s):\n",
    "            for i in range(0, len_s-k): \n",
    "                j = i+k\n",
    "                if s[i] == s[j]:\n",
    "                    result[i][j] = 2 + result[i+1][j-1]\n",
    "                else:\n",
    "                    result[i][j] = max(result[i+1][j], result[i][j-1])\n",
    "            \n",
    "        return result"
   ]
  },
  {
   "cell_type": "code",
   "execution_count": 37,
   "metadata": {},
   "outputs": [
    {
     "name": "stdout",
     "output_type": "stream",
     "text": [
      "By Brute Force:  Length is 0\n",
      "By Dynamic Programming:  Length is 5\n"
     ]
    }
   ],
   "source": [
    "s = 'agbdba'\n",
    "\n",
    "# Using Brute force search\n",
    "max_len, p_seq = brute_force_lps(s)\n",
    "print('By Brute Force:  Length is {}'.format(max_len))\n",
    "# Using Dynamic Programming\n",
    "result = longestPalindromeSubseq(s)\n",
    "max_len = result[0][len(s)-1]\n",
    "print('By Dynamic Programming:  Length is {}'.format(max_len))"
   ]
  },
  {
   "cell_type": "markdown",
   "metadata": {},
   "source": [
    "# Using Code from DP1_ DP2 to find all longest common palindromic subsequences"
   ]
  },
  {
   "cell_type": "code",
   "execution_count": 3,
   "metadata": {},
   "outputs": [],
   "source": [
    "# Memoisation\n",
    "def buildTable(s1, s2):\n",
    "    len_s1 = len(s1)\n",
    "    len_s2 = len(s2)\n",
    "    # initialising all cells with zeros\n",
    "    result = [[0 for i in range(len_s2+1)] for j in range(len_s1+1)]\n",
    "    for i in range(1, len_s1+1):\n",
    "        for j in range(1, len_s2+1):\n",
    "            result[i][j] = (1 + result[i-1][j-1]) if s1[i-1] == s2[j-1] else max(result[i][j-1], result[i-1][j])\n",
    "    return result\n",
    "\n",
    "#Reference and explanation: https://www.techiedelight.com/longest-common-subsequence-finding-lcs/\n",
    "def helperFunction(s1, s2, result, m, n):\n",
    "    if m is 0 or n is 0:\n",
    "        return set([''])\n",
    "    elif s1[m-1] == s2[n-1]:\n",
    "        all_sequences = helperFunction(s1, s2, result, m-1, n-1)\n",
    "        all_sequences = set(a+s1[m-1] for a in all_sequences )\n",
    "        return all_sequences\n",
    "    else:\n",
    "        if result[m-1][n] > result[m][n-1]:\n",
    "            return helperFunction(s1, s2, result, m-1,n)\n",
    "        elif result[m][n-1] > result[m-1][n]:\n",
    "            return helperFunction(s1, s2, result, m,n-1)\n",
    "        top_cell_sequences = helperFunction(s1, s2, result, m-1,n)\n",
    "        left_cell_sequences = helperFunction(s1, s2, result, m,n-1)\n",
    "        return top_cell_sequences.union(left_cell_sequences)\n",
    "    \n",
    "def getAllLongestCommonSubsequences(s1, s2):\n",
    "    result = buildTable(s1, s2)\n",
    "    sequences = helperFunction(s1, s2, result, len(s1) ,len(s2))\n",
    "    return sequences\n",
    "\n",
    "def print_helper_function(s1, s2):\n",
    "    print('Length of Longest Common Subsequence: {} and Sequences are : {}'.\n",
    "      format(getLengthOfLongestCommonSubSequence_m(s1,s2),getAllLongestCommonSubsequences(s1, s2)))"
   ]
  },
  {
   "cell_type": "code",
   "execution_count": 1,
   "metadata": {},
   "outputs": [],
   "source": [
    "def reverse_string(s):\n",
    "    reverse_s = s[len(s)::-1] \n",
    "    return reverse_s"
   ]
  },
  {
   "cell_type": "code",
   "execution_count": 4,
   "metadata": {},
   "outputs": [
    {
     "data": {
      "text/plain": [
       "{'BABCBAB', 'BACBCAB'}"
      ]
     },
     "execution_count": 4,
     "metadata": {},
     "output_type": "execute_result"
    }
   ],
   "source": [
    "# Idea from: https://www.techiedelight.com/longest-palindromic-subsequence-using-dynamic-programming/\n",
    "s = 'BBABCBCAB'\n",
    "getAllLongestCommonSubsequences(s, reverse_string(s))"
   ]
  }
 ],
 "metadata": {
  "kernelspec": {
   "display_name": "Python 3",
   "language": "python",
   "name": "python3"
  },
  "language_info": {
   "codemirror_mode": {
    "name": "ipython",
    "version": 3
   },
   "file_extension": ".py",
   "mimetype": "text/x-python",
   "name": "python",
   "nbconvert_exporter": "python",
   "pygments_lexer": "ipython3",
   "version": "3.7.4"
  }
 },
 "nbformat": 4,
 "nbformat_minor": 2
}
