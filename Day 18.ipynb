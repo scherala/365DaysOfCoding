{
 "cells": [
  {
   "cell_type": "markdown",
   "metadata": {},
   "source": [
    "# Snake Sequence Problem"
   ]
  },
  {
   "cell_type": "code",
   "execution_count": 6,
   "metadata": {},
   "outputs": [],
   "source": [
    "def find_max_len_snakesequence(input_grid):\n",
    "    rows = len(input_grid)\n",
    "    columns = len(input_grid[0])\n",
    "    result = [[1 for i in range(columns)] for j in range(rows)]\n",
    "    len_max = 1\n",
    "    for i in range(rows):\n",
    "        for j in range(columns):\n",
    "            if i != 0 or j != 0:\n",
    "                if i > 0 and abs(input_grid[i][j]- input_grid[i-1][j]):\n",
    "                    result[i][j] = max(result[i][j], result[i-1][j]+1)\n",
    "                    \n",
    "                    if len_max < result[i][j]:\n",
    "                        len_max = result[i][j]\n",
    "                \n",
    "                if j > 0 and abs(input_grid[i][j]- input_grid[i][j-1]):\n",
    "                    result[i][j] = max(result[i][j], result[i][j-1]+1)\n",
    "                    \n",
    "                    if len_max < result[i][j]:\n",
    "                        len_max = result[i][j]\n",
    "    return len_max     "
   ]
  },
  {
   "cell_type": "code",
   "execution_count": 7,
   "metadata": {},
   "outputs": [
    {
     "data": {
      "text/plain": [
       "7"
      ]
     },
     "execution_count": 7,
     "metadata": {},
     "output_type": "execute_result"
    }
   ],
   "source": [
    "input_grid = [[1,2,1,2],[7,7,2,5],[6,4,3,4],[1,2,2,5]]\n",
    "find_max_len_snakesequence(input_grid)"
   ]
  }
 ],
 "metadata": {
  "kernelspec": {
   "display_name": "Python 3",
   "language": "python",
   "name": "python3"
  },
  "language_info": {
   "codemirror_mode": {
    "name": "ipython",
    "version": 3
   },
   "file_extension": ".py",
   "mimetype": "text/x-python",
   "name": "python",
   "nbconvert_exporter": "python",
   "pygments_lexer": "ipython3",
   "version": "3.7.4"
  }
 },
 "nbformat": 4,
 "nbformat_minor": 2
}
