{
 "cells": [
  {
   "cell_type": "markdown",
   "metadata": {},
   "source": [
    "# Coin Changing Problem"
   ]
  },
  {
   "cell_type": "code",
   "execution_count": 22,
   "metadata": {},
   "outputs": [],
   "source": [
    "def find_optimal_denomination(coinset, total):\n",
    "    result = [[0 for i in range(len(coinset))] for j in range(total+1)]\n",
    "    for i in range(len(coinset)):\n",
    "        result[0][i] = 1\n",
    "    \n",
    "    for i in range(1,total+1):\n",
    "        for j in range(len(coinset)):\n",
    "            if i-coinset[j] >= 0:\n",
    "                first_sum = result[i - coinset[j]][j] \n",
    "            else:\n",
    "                first_sum = 0\n",
    "            if j >= 1:\n",
    "                second_sum = result[i][j-1] \n",
    "            else:\n",
    "                second_sum = 0\n",
    "            result[i][j] = first_sum + second_sum\n",
    "            \n",
    "    return result[total][len(coinset)-1]"
   ]
  },
  {
   "cell_type": "code",
   "execution_count": 23,
   "metadata": {},
   "outputs": [
    {
     "name": "stdout",
     "output_type": "stream",
     "text": [
      "4\n"
     ]
    }
   ],
   "source": [
    "print(find_optimal_denomination([1,2,3],4))"
   ]
  }
 ],
 "metadata": {
  "kernelspec": {
   "display_name": "Python 3",
   "language": "python",
   "name": "python3"
  },
  "language_info": {
   "codemirror_mode": {
    "name": "ipython",
    "version": 3
   },
   "file_extension": ".py",
   "mimetype": "text/x-python",
   "name": "python",
   "nbconvert_exporter": "python",
   "pygments_lexer": "ipython3",
   "version": "3.7.4"
  }
 },
 "nbformat": 4,
 "nbformat_minor": 2
}
